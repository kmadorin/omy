{
 "cells": [
  {
   "cell_type": "code",
   "execution_count": 24,
   "id": "0f9a52c8",
   "metadata": {},
   "outputs": [
    {
     "name": "stdout",
     "output_type": "stream",
     "text": [
      "Note: you may need to restart the kernel to use updated packages.\n"
     ]
    }
   ],
   "source": [
    "%%capture --no-stderr\n",
    "%pip install --upgrade --quiet langchain-community langchainhub langgraph psycopg2"
   ]
  },
  {
   "cell_type": "code",
   "execution_count": 25,
   "id": "c2a15227",
   "metadata": {},
   "outputs": [],
   "source": [
    "import os, getpass\n",
    "\n",
    "def _set_env(var: str):\n",
    "    if not os.environ.get(var):\n",
    "        os.environ[var] = getpass.getpass(f\"{var}: \")\n",
    "\n",
    "_set_env(\"OPENAI_API_KEY\")\n",
    "_set_env(\"DATABASE_URL\")"
   ]
  },
  {
   "cell_type": "code",
   "execution_count": 31,
   "id": "e798dafa-2766-4dc2-992c-cfe39217fef4",
   "metadata": {},
   "outputs": [
    {
     "name": "stdout",
     "output_type": "stream",
     "text": [
      "postgresql\n",
      "['YieldOpportunity', '_prisma_migrations', 'portfolio_position', 'portfolio_rebalance']\n"
     ]
    },
    {
     "data": {
      "text/plain": [
       "\"[('kava-kava-native-staking', 'Native Staking', None, 0.0790222222222222, 'apr', 'staking', 'kava', 'KAVA', None, 'unknown', 'Unknown Provider', 'unknown', 'KAVA', 0.0, True, 21, None, None, True, True, datetime.datetime(2025, 3, 20, 14, 13, 38, 103000), datetime.datetime(2025, 2, 15, 21, 42, 11, 347000)), ('ethereum-matic-native-staking', 'Native Staking', None, 0.0387838423145237, 'apr', 'staking', 'ethereum', 'POL', '0x455e53cbb86018ac2b8092fdcd39d8444affc3f6', 'unknown', 'Unknown Provider', 'unknown', 'POL', 0.0, True, 2, None, None, True, True, datetime.datetime(2025, 3, 20, 14, 13, 38, 103000), datetime.datetime(2025, 2, 15, 21, 42, 11, 347000)), ('axelar-axl-native-staking', 'Native Staking', None, 0.0667333333333333, 'apr', 'staking', 'axelar', 'AXL', None, 'unknown', 'Unknown Provider', 'unknown', 'AXL', 0.0, True, 7, None, None, True, True, datetime.datetime(2025, 3, 20, 14, 13, 38, 104000), datetime.datetime(2025, 2, 15, 21, 42, 11, 340000)), ('ethereum-cdai+cusdc+usdt-yvcurve-usdt-0.3.5-5b9408-yearn-vault', 'yvCurve-USDT 0.3.5 Yearn Vault', None, 0.0, 'apy', 'vault', 'ethereum', 'cDAI+cUSDC+USDT', '0x9fC689CCaDa600B6DF723D9E47D84d76664a1F23', 'yearn', 'Yearn Finance', 'yearn finance', 'cDAI+cUSDC+USDT', 0.0, True, None, None, None, False, True, datetime.datetime(2025, 3, 20, 14, 13, 41, 780000), datetime.datetime(2025, 2, 15, 21, 42, 14, 355000)), ('humansai-heart-native-staking', 'Native Staking', None, 0.37818, 'apr', 'staking', 'humansai', 'HEART', None, 'unknown', 'Unknown Provider', 'unknown', 'HEART', 0.0, True, 14, None, None, True, True, datetime.datetime(2025, 3, 20, 14, 13, 38, 105000), datetime.datetime(2025, 2, 15, 21, 42, 11, 348000)), ('ethereum-mim-ust-f-yvcurve-mimust-0.4.3-7fb627-yearn-vault', 'yvCurve-MIMUST 0.4.3 Yearn Vault', None, 0.0, 'apy', 'vault', 'ethereum', 'MIM-UST-f', '0x55A8a39bc9694714E2874c1ce77aa1E599461E18', 'yearn', 'Yearn Finance', 'yearn finance', 'MIM-UST-f', 0.0, True, None, None, None, False, True, datetime.datetime(2025, 3, 20, 14, 13, 41, 781000), datetime.datetime(2025, 2, 15, 21, 42, 14, 357000)), ('ethereum-ib3crv-yvcurve-ironbank-f-0.4.5-150115-yearn-vault', 'yvCurve-IronBank-f 0.4.5 Yearn Vault', None, 0.0714129681577169, 'apy', 'vault', 'ethereum', 'ib3CRV', '0x5282a4eF67D9C33135340fB3289cc1711c13638C', 'yearn', 'Yearn Finance', 'yearn finance', 'ib3CRV', 0.0, True, None, None, None, False, True, datetime.datetime(2025, 3, 20, 14, 13, 43, 622000), datetime.datetime(2025, 2, 15, 21, 42, 15, 356000)), ('ethereum-yearn-v3-0x028eC7330ff87667b6dfb0D94b954c820195336c', 'DAI Yearn Vault V3', None, 0.0427832782358798, 'apy', 'vault', 'ethereum', 'DAI', '0x6B175474E89094C44Da98b954EedeAC495271d0F', 'yearn', 'Yearn Finance', 'yearn finance', 'DAI', 0.0, True, None, None, None, False, True, datetime.datetime(2025, 3, 20, 14, 14, 13, 498000), datetime.datetime(2025, 2, 15, 21, 42, 23, 2000)), ('ethereum-musd3crv-yvcurve-musd-0.3.5-e690ae-yearn-vault', 'yvCurve-mUSD 0.3.5 Yearn Vault', None, 0.0497334324176921, 'apy', 'vault', 'ethereum', 'musd3CRV', '0x1AEf73d49Dedc4b1778d0706583995958Dc862e6', 'yearn', 'Yearn Finance', 'yearn finance', 'musd3CRV', 0.0, True, None, None, None, False, True, datetime.datetime(2025, 3, 20, 14, 13, 41, 779000), datetime.datetime(2025, 2, 15, 21, 42, 14, 230000)), ('band-protocol-band-native-staking', 'Native Staking', None, 0.127633333333333, 'apr', 'staking', 'band-protocol', 'BAND', None, 'unknown', 'Unknown Provider', 'unknown', 'BAND', 0.0, True, 21, None, None, True, True, datetime.datetime(2025, 3, 20, 14, 13, 38, 105000), datetime.datetime(2025, 2, 15, 21, 42, 11, 347000))]\""
      ]
     },
     "execution_count": 31,
     "metadata": {},
     "output_type": "execute_result"
    }
   ],
   "source": [
    "from langchain_community.utilities import SQLDatabase\n",
    "\n",
    "DATABASE_URL = os.environ.get(\"DATABASE_URL\")\n",
    "db = SQLDatabase.from_uri(DATABASE_URL)\n",
    "print(db.dialect)\n",
    "print(db.get_usable_table_names())\n",
    "db.run('SELECT * FROM \"public\".\"YieldOpportunity\" LIMIT 10;')"
   ]
  },
  {
   "cell_type": "code",
   "execution_count": 32,
   "id": "2a3c23c3-56a7-4883-9ec1-379310ac1b7a",
   "metadata": {},
   "outputs": [],
   "source": [
    "from typing_extensions import TypedDict\n",
    "\n",
    "\n",
    "class State(TypedDict):\n",
    "    question: str\n",
    "    query: str\n",
    "    result: str\n",
    "    answer: str"
   ]
  },
  {
   "cell_type": "code",
   "execution_count": 33,
   "id": "6f2e749a-58e3-46bc-8c4d-b7a295c46d7d",
   "metadata": {},
   "outputs": [],
   "source": [
    "import getpass\n",
    "import os\n",
    "\n",
    "if not os.environ.get(\"OPENAI_API_KEY\"):\n",
    "  os.environ[\"OPENAI_API_KEY\"] = getpass.getpass(\"Enter API key for OpenAI: \")\n",
    "\n",
    "from langchain.chat_models import init_chat_model\n",
    "\n",
    "llm = init_chat_model(\"gpt-4o-mini\", model_provider=\"openai\")"
   ]
  },
  {
   "cell_type": "code",
   "execution_count": 34,
   "id": "ca440c65-6730-47e3-8289-c2073574e323",
   "metadata": {},
   "outputs": [
    {
     "name": "stdout",
     "output_type": "stream",
     "text": [
      "================================\u001b[1m System Message \u001b[0m================================\n",
      "\n",
      "Given an input question, create a syntactically correct \u001b[33;1m\u001b[1;3m{dialect}\u001b[0m query to run to help find the answer. Unless the user specifies in his question a specific number of examples they wish to obtain, always limit your query to at most \u001b[33;1m\u001b[1;3m{top_k}\u001b[0m results. You can order the results by a relevant column to return the most interesting examples in the database.\n",
      "\n",
      "Never query for all the columns from a specific table, only ask for a the few relevant columns given the question.\n",
      "\n",
      "Pay attention to use only the column names that you can see in the schema description. Be careful to not query for columns that do not exist. Also, pay attention to which column is in which table.\n",
      "\n",
      "Only use the following tables:\n",
      "\u001b[33;1m\u001b[1;3m{table_info}\u001b[0m\n",
      "\n",
      "Question: \u001b[33;1m\u001b[1;3m{input}\u001b[0m\n"
     ]
    }
   ],
   "source": [
    "from langchain import hub\n",
    "\n",
    "query_prompt_template = hub.pull(\"langchain-ai/sql-query-system-prompt\")\n",
    "\n",
    "assert len(query_prompt_template.messages) == 1\n",
    "query_prompt_template.messages[0].pretty_print()"
   ]
  },
  {
   "cell_type": "code",
   "execution_count": 35,
   "id": "d805dba3-9f5f-4e26-87e6-afe8c200bf27",
   "metadata": {},
   "outputs": [],
   "source": [
    "from typing_extensions import Annotated\n",
    "\n",
    "\n",
    "class QueryOutput(TypedDict):\n",
    "    \"\"\"Generated SQL query.\"\"\"\n",
    "\n",
    "    query: Annotated[str, ..., \"Syntactically valid SQL query.\"]\n",
    "\n",
    "\n",
    "def write_query(state: State):\n",
    "    \"\"\"Generate SQL query to fetch information.\"\"\"\n",
    "    prompt = query_prompt_template.invoke(\n",
    "        {\n",
    "            \"dialect\": db.dialect,\n",
    "            \"top_k\": 10,\n",
    "            \"table_info\": db.get_table_info(),\n",
    "            \"input\": state[\"question\"],\n",
    "        }\n",
    "    )\n",
    "    structured_llm = llm.with_structured_output(QueryOutput)\n",
    "    result = structured_llm.invoke(prompt)\n",
    "    return {\"query\": result[\"query\"]}"
   ]
  },
  {
   "cell_type": "code",
   "execution_count": 55,
   "id": "125d68c5-72cf-459e-b0f6-5bfbcca05c02",
   "metadata": {},
   "outputs": [
    {
     "data": {
      "text/plain": [
       "{'query': 'SELECT id, name, apy, token_symbol, provider_name \\nFROM \"YieldOpportunity\" \\nWHERE asset = \\'USDC\\' \\nORDER BY apy DESC \\nLIMIT 10;'}"
      ]
     },
     "execution_count": 55,
     "metadata": {},
     "output_type": "execute_result"
    }
   ],
   "source": [
    "write_query({\"question\": \"Show top 20 yield options for USDC\"})"
   ]
  },
  {
   "cell_type": "code",
   "execution_count": 47,
   "id": "134e7fb2-b41e-4c76-a9de-9eed87a01cef",
   "metadata": {},
   "outputs": [],
   "source": [
    "from langchain_community.tools.sql_database.tool import QuerySQLDatabaseTool\n",
    "\n",
    "\n",
    "def execute_query(state: State):\n",
    "    \"\"\"Execute SQL query.\"\"\"\n",
    "    execute_query_tool = QuerySQLDatabaseTool(db=db)\n",
    "    return {\"result\": execute_query_tool.invoke(state[\"query\"])}"
   ]
  },
  {
   "cell_type": "code",
   "execution_count": 49,
   "id": "60762991-e005-454b-b378-6f6e7c5927a8",
   "metadata": {},
   "outputs": [
    {
     "data": {
      "text/plain": [
       "{'result': \"[('ethereum-usdc-bbidlecppor-usdc4626-0xa35b7a9fe5dc4cd51ba47acdf67b0f41c893329a-4626-vault', 'USDC Portofino Technologies Junior Tranches Idle Vault', 0.149, 'USDC', 'Idle Finance'), ('ethereum-usdc-aaidlecppor-usdc4626-0x291eecab3a2d3f403745968c14edbb227d183636-4626-vault', 'USDC Portofino Technologies Senior Tranches Idle Vault', 0.1152, 'USDC', 'Idle Finance'), ('base-usdc-re7usdc-0x12afdefb2237a5963e7bab3e2d46ad0eee70406e-4626-vault', 'Re7 USDC Morpho Blue Vault', 0.0905848555040482, 'USDC', 'Morpho Blue'), ('base-usdc-gtusdcc-0xc0c5689e6f4d256e861f65465b691aeecc0deb12-4626-vault', 'Gauntlet USDC Core Morpho Blue Vault', 0.0884740925836527, 'USDC', 'Morpho Blue'), ('arbitrum-usdc-dusdcv3-0x890a69ef363c9c7bdd5e36eb95ceb569f63acbf6-4626-vault', 'USDC Main USDC v3 Gearbox Vault', 0.0883, 'USDC', 'Gearbox')]\"}"
      ]
     },
     "execution_count": 49,
     "metadata": {},
     "output_type": "execute_result"
    }
   ],
   "source": [
    "execute_query({'query': 'SELECT id, name, apy, token_symbol, provider_name\\nFROM \"YieldOpportunity\"\\nWHERE asset = \\'USDC\\'\\nORDER BY apy DESC\\nLIMIT 5;'})"
   ]
  },
  {
   "cell_type": "code",
   "execution_count": 50,
   "id": "c6a6343b-6ed3-45e2-b998-3b84bf513a06",
   "metadata": {},
   "outputs": [],
   "source": [
    "def generate_answer(state: State):\n",
    "    \"\"\"Answer question using retrieved information as context.\"\"\"\n",
    "    prompt = (\n",
    "        \"Given the following user question, corresponding SQL query, \"\n",
    "        \"and SQL result, answer the user question.\\n\\n\"\n",
    "        f'Question: {state[\"question\"]}\\n'\n",
    "        f'SQL Query: {state[\"query\"]}\\n'\n",
    "        f'SQL Result: {state[\"result\"]}'\n",
    "    )\n",
    "    response = llm.invoke(prompt)\n",
    "    return {\"answer\": response.content}"
   ]
  },
  {
   "cell_type": "code",
   "execution_count": 52,
   "id": "5762aa8b-6b1a-4cc6-88c0-6d62a37ddcd9",
   "metadata": {},
   "outputs": [],
   "source": [
    "from langgraph.graph import START, StateGraph\n",
    "\n",
    "graph_builder = StateGraph(State).add_sequence(\n",
    "    [write_query, execute_query, generate_answer]\n",
    ")\n",
    "graph_builder.add_edge(START, \"write_query\")\n",
    "graph = graph_builder.compile()"
   ]
  },
  {
   "cell_type": "code",
   "execution_count": 53,
   "id": "569d8e7c-ae10-417f-90d9-a4e52c675d63",
   "metadata": {},
   "outputs": [
    {
     "data": {
      "image/png": "[encoded data removed]",
      "text/plain": [
       "<IPython.core.display.Image object>"
      ]
     },
     "metadata": {},
     "output_type": "display_data"
    }
   ],
   "source": [
    "from IPython.display import Image, display\n",
    "\n",
    "display(Image(graph.get_graph().draw_mermaid_png()))"
   ]
  },
  {
   "cell_type": "code",
   "execution_count": 54,
   "id": "381f5a54-d9e2-4db7-883f-9ec70170d073",
   "metadata": {},
   "outputs": [
    {
     "name": "stdout",
     "output_type": "stream",
     "text": [
      "{'write_query': {'query': 'SELECT id, name, apy, token_symbol, provider_name\\nFROM \"YieldOpportunity\"\\nWHERE asset = \\'USDC\\'\\nORDER BY apy DESC\\nLIMIT 5;'}}\n",
      "{'execute_query': {'result': \"[('ethereum-usdc-bbidlecppor-usdc4626-0xa35b7a9fe5dc4cd51ba47acdf67b0f41c893329a-4626-vault', 'USDC Portofino Technologies Junior Tranches Idle Vault', 0.149, 'USDC', 'Idle Finance'), ('ethereum-usdc-aaidlecppor-usdc4626-0x291eecab3a2d3f403745968c14edbb227d183636-4626-vault', 'USDC Portofino Technologies Senior Tranches Idle Vault', 0.1152, 'USDC', 'Idle Finance'), ('base-usdc-re7usdc-0x12afdefb2237a5963e7bab3e2d46ad0eee70406e-4626-vault', 'Re7 USDC Morpho Blue Vault', 0.0905848555040482, 'USDC', 'Morpho Blue'), ('base-usdc-gtusdcc-0xc0c5689e6f4d256e861f65465b691aeecc0deb12-4626-vault', 'Gauntlet USDC Core Morpho Blue Vault', 0.0884740925836527, 'USDC', 'Morpho Blue'), ('arbitrum-usdc-dusdcv3-0x890a69ef363c9c7bdd5e36eb95ceb569f63acbf6-4626-vault', 'USDC Main USDC v3 Gearbox Vault', 0.0883, 'USDC', 'Gearbox')]\"}}\n",
      "{'generate_answer': {'answer': 'Here are the top 5 yield options for USDC:\\n\\n1. **USDC Portofino Technologies Junior Tranches Idle Vault**\\n   - APY: 14.9%\\n   - Provider: Idle Finance\\n\\n2. **USDC Portofino Technologies Senior Tranches Idle Vault**\\n   - APY: 11.52%\\n   - Provider: Idle Finance\\n\\n3. **Re7 USDC Morpho Blue Vault**\\n   - APY: 9.06%\\n   - Provider: Morpho Blue\\n\\n4. **Gauntlet USDC Core Morpho Blue Vault**\\n   - APY: 8.85%\\n   - Provider: Morpho Blue\\n\\n5. **USDC Main USDC v3 Gearbox Vault**\\n   - APY: 8.83%\\n   - Provider: Gearbox\\n\\nThese options are ranked by their annual percentage yield (APY).'}}\n"
     ]
    }
   ],
   "source": [
    "for step in graph.stream(\n",
    "    {\"question\": \"Show top 5 yield options for USDC\"}, stream_mode=\"updates\"\n",
    "):\n",
    "    print(step)"
   ]
  }
 ],
 "metadata": {
  "kernelspec": {
   "display_name": "Python 3 (ipykernel)",
   "language": "python",
   "name": "python3"
  },
  "language_info": {
   "codemirror_mode": {
    "name": "ipython",
    "version": 3
   },
   "file_extension": ".py",
   "mimetype": "text/x-python",
   "name": "python",
   "nbconvert_exporter": "python",
   "pygments_lexer": "ipython3",
   "version": "3.11.11"
  }
 },
 "nbformat": 4,
 "nbformat_minor": 5
}
